{
 "cells": [
  {
   "cell_type": "markdown",
   "id": "95b6619b",
   "metadata": {},
   "source": [
    "# Acquiring images (Module 3)\n",
    "\n",
    "This notebook is designed to be a standalone tutorial demonstrating how you can acquire images from the [iDigBio portal](https://www.idigbio.org/portal/search) based on your own research scope. For the remainder of the lessons in today's workshop we will be using a standard set of images provided by the workshop instructors. This module will show you how that set of images was originally acquired, and provide an opportunity for you to test out downloading images yourself.\n",
    "\n",
    "Our goals are for you to be able to:\n",
    "1. Define search parameters\n",
    "1. Retrieve specimen media records that meet those parameters\n",
    "1. Download media associated with those specimen records\n",
    "1. Review media and conduct quality control\n",
    "\n",
    "We will be accessing data from the iDigBio Portal via an Application Programming Interface (API). All that you need to know about APIs for this workshop is that they are essentially a way for an organization to allow external users to interact with their systems. If you would like a slightly more detailed overview, check out this video on [Reading data directly into your analysis script: Introduction to APIs](https://vimeo.com/444924504)."
   ]
  },
  {
   "cell_type": "markdown",
   "id": "58af847f",
   "metadata": {},
   "source": [
    "Before we begin, you will need to install the following packages if you have not already:"
   ]
  },
  {
   "cell_type": "code",
   "execution_count": null,
   "id": "a29fcccf",
   "metadata": {},
   "outputs": [],
   "source": [
    "!pip install idigbio"
   ]
  },
  {
   "cell_type": "code",
   "execution_count": null,
   "id": "f555eb36",
   "metadata": {},
   "outputs": [],
   "source": [
    "!pip install pandas"
   ]
  },
  {
   "cell_type": "code",
   "execution_count": null,
   "id": "34669871",
   "metadata": {},
   "outputs": [],
   "source": [
    "!pip install requests"
   ]
  },
  {
   "cell_type": "code",
   "execution_count": null,
   "id": "001eee35",
   "metadata": {},
   "outputs": [],
   "source": [
    "!pip install shutil"
   ]
  },
  {
   "cell_type": "markdown",
   "id": "83725905",
   "metadata": {},
   "source": [
    "## Define search parameters & retrieve specimen media records\n",
    "\n",
    "First, we need to find all the media records for which we are interested in downloading media files. Do this using the `search_media` function from the idigbio package, which allows you to search for media records based on data contained in linked specimen records, like species or collecting locality. You can learn more about this function from the [iDigBio API documentation](https://github.com/iDigBio/idigbio-search-api/wiki) and [iDigBio Python package documentation](https://pypi.org/project/idigbio/). In this example, we want to search for images of herbarium specimens of species in the genus Acer that were collected in the United States."
   ]
  },
  {
   "cell_type": "code",
   "execution_count": 15,
   "id": "db7d6c68",
   "metadata": {
    "scrolled": true
   },
   "outputs": [],
   "source": [
    "# Load idigbio package\n",
    "import idigbio\n",
    "\n",
    "# Load pandas package\n",
    "import pandas\n",
    "\n",
    "# Specify that we want to return results as a dataframe\n",
    "api = idigbio.pandas()\n",
    "\n",
    "# Execute the search with a limit on retrieving only 10 results\n",
    "mediarecords = api.search_media(rq={'genus': 'acer',\n",
    "                                    'country': 'united states',\n",
    "                                    'stateprovince': 'california',\n",
    "                                    'hasImage': True},\n",
    "                                limit = 10)"
   ]
  },
  {
   "cell_type": "markdown",
   "id": "f8e2f81d",
   "metadata": {},
   "source": [
    "As a result of the code above, we now have a dataframe called `mediarecords`. Here's a peak into some of the important fields contained in this dataframe:"
   ]
  },
  {
   "cell_type": "code",
   "execution_count": 16,
   "id": "5eea20d2",
   "metadata": {},
   "outputs": [
    {
     "data": {
      "text/html": [
       "<div>\n",
       "<style scoped>\n",
       "    .dataframe tbody tr th:only-of-type {\n",
       "        vertical-align: middle;\n",
       "    }\n",
       "\n",
       "    .dataframe tbody tr th {\n",
       "        vertical-align: top;\n",
       "    }\n",
       "\n",
       "    .dataframe thead th {\n",
       "        text-align: right;\n",
       "    }\n",
       "</style>\n",
       "<table border=\"1\" class=\"dataframe\">\n",
       "  <thead>\n",
       "    <tr style=\"text-align: right;\">\n",
       "      <th></th>\n",
       "      <th>accessuri</th>\n",
       "      <th>rights</th>\n",
       "      <th>format</th>\n",
       "      <th>records</th>\n",
       "    </tr>\n",
       "    <tr>\n",
       "      <th>uuid</th>\n",
       "      <th></th>\n",
       "      <th></th>\n",
       "      <th></th>\n",
       "      <th></th>\n",
       "    </tr>\n",
       "  </thead>\n",
       "  <tbody>\n",
       "    <tr>\n",
       "      <th>e29dac8e-bb8b-4b9a-a466-ab60737de977</th>\n",
       "      <td>http://n2t.net/ark:/65665/m3d2d57e8d-4524-4cc9...</td>\n",
       "      <td>CC0</td>\n",
       "      <td>tiff, jpeg, jpeg, jpeg, jpeg, jpeg</td>\n",
       "      <td>[c7591b04-ed68-49cc-b81e-625dfb759eb1]</td>\n",
       "    </tr>\n",
       "    <tr>\n",
       "      <th>a15c893e-885c-4213-9e21-eed63a8396ef</th>\n",
       "      <td>http://n2t.net/ark:/65665/m352c5c3c4-420c-4341...</td>\n",
       "      <td>CC0</td>\n",
       "      <td>tiff, jpeg, jpeg, jpeg, jpeg, jpeg</td>\n",
       "      <td>[d320b657-4b96-48c1-a0a3-25a14941edca]</td>\n",
       "    </tr>\n",
       "    <tr>\n",
       "      <th>c327a5f5-eb40-4cdb-af17-5d9a48813e12</th>\n",
       "      <td>http://n2t.net/ark:/65665/m3e5ce0eef-d64d-4f80...</td>\n",
       "      <td>CC0</td>\n",
       "      <td>tiff, jpeg, jpeg, jpeg, jpeg, jpeg</td>\n",
       "      <td>[01956fa0-1041-4966-822e-d4efd040b4ac]</td>\n",
       "    </tr>\n",
       "    <tr>\n",
       "      <th>4f107f1c-33b7-44b0-bbcb-5ba9ccf6dd40</th>\n",
       "      <td>http://n2t.net/ark:/65665/m328733e5b-c0a4-4ada...</td>\n",
       "      <td>CC0</td>\n",
       "      <td>tiff, jpeg, jpeg, jpeg, jpeg, jpeg</td>\n",
       "      <td>[01956fa0-1041-4966-822e-d4efd040b4ac]</td>\n",
       "    </tr>\n",
       "    <tr>\n",
       "      <th>ad9d24c6-0c02-456e-8f2f-ad4f277e1016</th>\n",
       "      <td>http://n2t.net/ark:/65665/m369ad5509-8d9e-4472...</td>\n",
       "      <td>CC0</td>\n",
       "      <td>tiff, jpeg, jpeg, jpeg, jpeg, jpeg</td>\n",
       "      <td>[fe270751-f9ab-4279-88d6-30a2aaa56dae]</td>\n",
       "    </tr>\n",
       "    <tr>\n",
       "      <th>2d8a7d7e-2b62-4ea5-825a-99e13542ec52</th>\n",
       "      <td>http://n2t.net/ark:/65665/m356d8049d-54a9-4412...</td>\n",
       "      <td>CC0</td>\n",
       "      <td>tiff, jpeg, jpeg, jpeg, jpeg, jpeg</td>\n",
       "      <td>[f3c793c5-0bc5-46d6-a5de-212591d3d193]</td>\n",
       "    </tr>\n",
       "    <tr>\n",
       "      <th>0b1f8a56-84f1-4fef-b6c0-d25bda9a5274</th>\n",
       "      <td>http://n2t.net/ark:/65665/m3b77f80b1-0475-4ad9...</td>\n",
       "      <td>CC0</td>\n",
       "      <td>tiff, jpeg, jpeg, jpeg, jpeg, jpeg</td>\n",
       "      <td>[41a1c12e-a8fa-49f7-ab8b-ff76b26e6a9d]</td>\n",
       "    </tr>\n",
       "    <tr>\n",
       "      <th>ed5d42e1-c255-40dc-8c94-c8dbf8646d8b</th>\n",
       "      <td>http://n2t.net/ark:/65665/m3119d46db-005c-4d6e...</td>\n",
       "      <td>CC0</td>\n",
       "      <td>tiff, jpeg, jpeg, jpeg, jpeg, jpeg</td>\n",
       "      <td>[085d0883-a595-4d91-b55f-7f46a2405570]</td>\n",
       "    </tr>\n",
       "    <tr>\n",
       "      <th>9d6b9063-c930-4c3d-a2db-bb78186811e9</th>\n",
       "      <td>http://n2t.net/ark:/65665/m394f87783-6efe-463d...</td>\n",
       "      <td>CC0</td>\n",
       "      <td>tiff, jpeg, jpeg, jpeg, jpeg, jpeg</td>\n",
       "      <td>[ad800b93-f818-4c51-a27a-317b6e26b504]</td>\n",
       "    </tr>\n",
       "    <tr>\n",
       "      <th>bb30376f-71f6-481a-a118-0fd760f1b3fa</th>\n",
       "      <td>http://n2t.net/ark:/65665/m37ac9f2ad-a9c2-428c...</td>\n",
       "      <td>CC0</td>\n",
       "      <td>tiff, jpeg, jpeg, jpeg, jpeg, jpeg</td>\n",
       "      <td>[41a1c12e-a8fa-49f7-ab8b-ff76b26e6a9d]</td>\n",
       "    </tr>\n",
       "  </tbody>\n",
       "</table>\n",
       "</div>"
      ],
      "text/plain": [
       "                                                                              accessuri  \\\n",
       "uuid                                                                                      \n",
       "e29dac8e-bb8b-4b9a-a466-ab60737de977  http://n2t.net/ark:/65665/m3d2d57e8d-4524-4cc9...   \n",
       "a15c893e-885c-4213-9e21-eed63a8396ef  http://n2t.net/ark:/65665/m352c5c3c4-420c-4341...   \n",
       "c327a5f5-eb40-4cdb-af17-5d9a48813e12  http://n2t.net/ark:/65665/m3e5ce0eef-d64d-4f80...   \n",
       "4f107f1c-33b7-44b0-bbcb-5ba9ccf6dd40  http://n2t.net/ark:/65665/m328733e5b-c0a4-4ada...   \n",
       "ad9d24c6-0c02-456e-8f2f-ad4f277e1016  http://n2t.net/ark:/65665/m369ad5509-8d9e-4472...   \n",
       "2d8a7d7e-2b62-4ea5-825a-99e13542ec52  http://n2t.net/ark:/65665/m356d8049d-54a9-4412...   \n",
       "0b1f8a56-84f1-4fef-b6c0-d25bda9a5274  http://n2t.net/ark:/65665/m3b77f80b1-0475-4ad9...   \n",
       "ed5d42e1-c255-40dc-8c94-c8dbf8646d8b  http://n2t.net/ark:/65665/m3119d46db-005c-4d6e...   \n",
       "9d6b9063-c930-4c3d-a2db-bb78186811e9  http://n2t.net/ark:/65665/m394f87783-6efe-463d...   \n",
       "bb30376f-71f6-481a-a118-0fd760f1b3fa  http://n2t.net/ark:/65665/m37ac9f2ad-a9c2-428c...   \n",
       "\n",
       "                                     rights  \\\n",
       "uuid                                          \n",
       "e29dac8e-bb8b-4b9a-a466-ab60737de977    CC0   \n",
       "a15c893e-885c-4213-9e21-eed63a8396ef    CC0   \n",
       "c327a5f5-eb40-4cdb-af17-5d9a48813e12    CC0   \n",
       "4f107f1c-33b7-44b0-bbcb-5ba9ccf6dd40    CC0   \n",
       "ad9d24c6-0c02-456e-8f2f-ad4f277e1016    CC0   \n",
       "2d8a7d7e-2b62-4ea5-825a-99e13542ec52    CC0   \n",
       "0b1f8a56-84f1-4fef-b6c0-d25bda9a5274    CC0   \n",
       "ed5d42e1-c255-40dc-8c94-c8dbf8646d8b    CC0   \n",
       "9d6b9063-c930-4c3d-a2db-bb78186811e9    CC0   \n",
       "bb30376f-71f6-481a-a118-0fd760f1b3fa    CC0   \n",
       "\n",
       "                                                                  format  \\\n",
       "uuid                                                                       \n",
       "e29dac8e-bb8b-4b9a-a466-ab60737de977  tiff, jpeg, jpeg, jpeg, jpeg, jpeg   \n",
       "a15c893e-885c-4213-9e21-eed63a8396ef  tiff, jpeg, jpeg, jpeg, jpeg, jpeg   \n",
       "c327a5f5-eb40-4cdb-af17-5d9a48813e12  tiff, jpeg, jpeg, jpeg, jpeg, jpeg   \n",
       "4f107f1c-33b7-44b0-bbcb-5ba9ccf6dd40  tiff, jpeg, jpeg, jpeg, jpeg, jpeg   \n",
       "ad9d24c6-0c02-456e-8f2f-ad4f277e1016  tiff, jpeg, jpeg, jpeg, jpeg, jpeg   \n",
       "2d8a7d7e-2b62-4ea5-825a-99e13542ec52  tiff, jpeg, jpeg, jpeg, jpeg, jpeg   \n",
       "0b1f8a56-84f1-4fef-b6c0-d25bda9a5274  tiff, jpeg, jpeg, jpeg, jpeg, jpeg   \n",
       "ed5d42e1-c255-40dc-8c94-c8dbf8646d8b  tiff, jpeg, jpeg, jpeg, jpeg, jpeg   \n",
       "9d6b9063-c930-4c3d-a2db-bb78186811e9  tiff, jpeg, jpeg, jpeg, jpeg, jpeg   \n",
       "bb30376f-71f6-481a-a118-0fd760f1b3fa  tiff, jpeg, jpeg, jpeg, jpeg, jpeg   \n",
       "\n",
       "                                                                     records  \n",
       "uuid                                                                          \n",
       "e29dac8e-bb8b-4b9a-a466-ab60737de977  [c7591b04-ed68-49cc-b81e-625dfb759eb1]  \n",
       "a15c893e-885c-4213-9e21-eed63a8396ef  [d320b657-4b96-48c1-a0a3-25a14941edca]  \n",
       "c327a5f5-eb40-4cdb-af17-5d9a48813e12  [01956fa0-1041-4966-822e-d4efd040b4ac]  \n",
       "4f107f1c-33b7-44b0-bbcb-5ba9ccf6dd40  [01956fa0-1041-4966-822e-d4efd040b4ac]  \n",
       "ad9d24c6-0c02-456e-8f2f-ad4f277e1016  [fe270751-f9ab-4279-88d6-30a2aaa56dae]  \n",
       "2d8a7d7e-2b62-4ea5-825a-99e13542ec52  [f3c793c5-0bc5-46d6-a5de-212591d3d193]  \n",
       "0b1f8a56-84f1-4fef-b6c0-d25bda9a5274  [41a1c12e-a8fa-49f7-ab8b-ff76b26e6a9d]  \n",
       "ed5d42e1-c255-40dc-8c94-c8dbf8646d8b  [085d0883-a595-4d91-b55f-7f46a2405570]  \n",
       "9d6b9063-c930-4c3d-a2db-bb78186811e9  [ad800b93-f818-4c51-a27a-317b6e26b504]  \n",
       "bb30376f-71f6-481a-a118-0fd760f1b3fa  [41a1c12e-a8fa-49f7-ab8b-ff76b26e6a9d]  "
      ]
     },
     "execution_count": 16,
     "metadata": {},
     "output_type": "execute_result"
    }
   ],
   "source": [
    "mediarecords[['accessuri','rights','format','records']]"
   ]
  },
  {
   "cell_type": "markdown",
   "id": "2ff89a58",
   "metadata": {},
   "source": [
    "## Download media associated with these specimen records\n",
    "\n",
    "Now that we know what media records are of interest to us, we need to isolate the URLs that link to the actual media files so that we can download them. In this example, we will demonstrate how to download files that are cached on the iDigBio server, as well as the original files hosted externally by the data provider. It is unlikely that you need to download two sets of images, so you can choose to execute either the steps related to \"iDigBio\" or to \"external,\" depending on your preference."
   ]
  },
  {
   "cell_type": "markdown",
   "id": "aecebb8e",
   "metadata": {},
   "source": [
    "_The code block below will assemble a vector of download URLs for media files on the iDigBio server._"
   ]
  },
  {
   "cell_type": "code",
   "execution_count": 12,
   "id": "c92cbf40",
   "metadata": {
    "scrolled": true
   },
   "outputs": [
    {
     "name": "stdout",
     "output_type": "stream",
     "text": [
      "https://api.idigbio.org/v2/media/7af81430-dc0f-4966-afe5-0a668c3250a9?size=fullsize\n",
      "https://api.idigbio.org/v2/media/75ec8a37-8daf-4e74-b2a5-5c303c4a43f7?size=fullsize\n",
      "https://api.idigbio.org/v2/media/bb2fdea6-e3e4-411d-a0a4-c22ead467250?size=fullsize\n",
      "https://api.idigbio.org/v2/media/1f2dbb2b-75ba-48cb-b34c-1ca003b4a38d?size=fullsize\n",
      "https://api.idigbio.org/v2/media/ea53c2af-184d-458b-9a4a-1a095235b854?size=fullsize\n",
      "https://api.idigbio.org/v2/media/f7ff8c3e-0e26-4ba1-8b47-37211f845120?size=fullsize\n",
      "https://api.idigbio.org/v2/media/e66162cb-7b7a-412d-82cf-b923aacc80c2?size=fullsize\n",
      "https://api.idigbio.org/v2/media/0bd110c1-5a9f-48fc-9fd2-138c7c6ee15a?size=fullsize\n",
      "https://api.idigbio.org/v2/media/1c5f5caa-12a9-4888-94f4-6026e40582af?size=fullsize\n",
      "https://api.idigbio.org/v2/media/79925f66-bcf5-46f9-bc23-5512a9c21d6d?size=fullsize\n"
     ]
    }
   ],
   "source": [
    "# Pull UUID values out of the `mediarecords` dataframe and into a list data structure\n",
    "uuids = mediarecords.index.tolist()\n",
    "\n",
    "# Set standard URL prefix for files cached on the iDigBio server\n",
    "append_str = 'https://api.idigbio.org/v2/media/'\n",
    "\n",
    "# Define a URL suffix to specify we want to download the full size images\n",
    "# You can download lower resolution images by changing this string to '?size=webview'\n",
    "suffix_str = '?size=fullsize'\n",
    "\n",
    "# Create list of iDigBio media URLs by concatenating the prefix above with the UUID values from `mediarecords`\n",
    "mediaurl_idigbio = [append_str + sub + suffix_str for sub in uuids]\n",
    "\n",
    "# Show us what we just made\n",
    "for i in mediaurl_idigbio: print(i)"
   ]
  },
  {
   "cell_type": "markdown",
   "id": "e45a361d",
   "metadata": {},
   "source": [
    "_The code block below will assemble a vector of download URLs for data providers' original media files stored on external servers._"
   ]
  },
  {
   "cell_type": "code",
   "execution_count": 17,
   "id": "6b1d79c7",
   "metadata": {},
   "outputs": [
    {
     "name": "stdout",
     "output_type": "stream",
     "text": [
      "http://n2t.net/ark:/65665/m3d2d57e8d-4524-4cc9-9bf3-0218332279fb\n",
      "http://n2t.net/ark:/65665/m352c5c3c4-420c-4341-9b6f-0bb2691a4fa3\n",
      "http://n2t.net/ark:/65665/m3e5ce0eef-d64d-4f80-9341-bb61cae08444\n",
      "http://n2t.net/ark:/65665/m328733e5b-c0a4-4ada-8ab4-a4f56f510b39\n",
      "http://n2t.net/ark:/65665/m369ad5509-8d9e-4472-914e-3a681bc7c01e\n",
      "http://n2t.net/ark:/65665/m356d8049d-54a9-4412-ba49-b2bfa93a0cc3\n",
      "http://n2t.net/ark:/65665/m3b77f80b1-0475-4ad9-b6bb-dd33dce8cb8e\n",
      "http://n2t.net/ark:/65665/m3119d46db-005c-4d6e-a79b-a5be91585fb3\n",
      "http://n2t.net/ark:/65665/m394f87783-6efe-463d-84b6-9d6afb5083ae\n",
      "http://n2t.net/ark:/65665/m37ac9f2ad-a9c2-428c-affc-d9930d322fa2\n"
     ]
    }
   ],
   "source": [
    "# Create list of external media URLs by pulling values for `accessuri` out of `mediarecords`\n",
    "mediaurl_external = mediarecords.accessuri.tolist()\n",
    "\n",
    "# Show us what we just made\n",
    "for i in mediaurl_external: print(i)"
   ]
  },
  {
   "cell_type": "markdown",
   "id": "e443f50b",
   "metadata": {},
   "source": [
    "## Downloading images\n",
    "\n",
    "We can use the download URLs that we assembled in the step above to go and download each media file. For clarity, we will place files in two different folders, based on whether we downloaded them from the iDigBio server or an external server."
   ]
  },
  {
   "cell_type": "markdown",
   "id": "8f8c783f",
   "metadata": {},
   "source": [
    "_The code block below will download media files from the iDigBio server._"
   ]
  },
  {
   "cell_type": "code",
   "execution_count": null,
   "id": "6fa3586d",
   "metadata": {},
   "outputs": [],
   "source": [
    "# Load requests package\n",
    "import requests\n",
    "\n",
    "# Load shutil package\n",
    "import shutil\n",
    "\n",
    "# Create a new directory to save media files in\n",
    "\n",
    "\n",
    "# Initiate loop that will iterate through our list of URLs and download the file found at each\n",
    "for i in mediaurl_idigbio:\n",
    "\n",
    "    # Define what values we are iterating through\n",
    "    image_url = i\n",
    "    \n",
    "    # Define a filename based on the UUID of the media record\n",
    "    filename = image_url.split('/')[-1] + '.jpg'\n",
    "    \n",
    "    # Begin the process of downloading a file\n",
    "    r = requests.get(image_url, stream = True)\n",
    "\n",
    "    # Check that the file can be retrieved successfully\n",
    "    if r.status_code == 200:\n",
    "        \n",
    "        # Set this otherwise the downloaded image file size will be zero\n",
    "        r.raw.decode_content = True\n",
    "    \n",
    "        # Open a local file\n",
    "        with open(filename, 'wb') as f:\n",
    "            shutil.copyfileobj(r.raw, f)\n",
    "        \n",
    "        # Report back on how things went\n",
    "        print('Image sucessfully Downloaded: ',filename)\n",
    "    else:\n",
    "        print('Image Couldn\\'t be retreived')"
   ]
  },
  {
   "cell_type": "code",
   "execution_count": null,
   "id": "7d389bac",
   "metadata": {},
   "outputs": [],
   "source": [
    "_The code block below will download media files hosted externally by data providers._"
   ]
  },
  {
   "cell_type": "code",
   "execution_count": null,
   "id": "b3ff87c5",
   "metadata": {},
   "outputs": [],
   "source": [
    "# Load requests package\n",
    "import requests\n",
    "\n",
    "# Load shutil package\n",
    "import shutil\n",
    "\n",
    "# Create a new directory to save media files in\n",
    "\n",
    "\n",
    "# Initiate loop that will iterate through our list of URLs and download the file found at each\n",
    "for i in mediaurl_external:\n",
    "\n",
    "    # Define what values we are iterating through\n",
    "    image_url = i\n",
    "    \n",
    "    # Retain the original filename\n",
    "    filename = image_url.split('/')[-1] + '.jpg'\n",
    "    \n",
    "    # Begin the process of downloading a file\n",
    "    r = requests.get(image_url, stream = True)\n",
    "\n",
    "    # Check that the file can be retrieved successfully\n",
    "    if r.status_code == 200:\n",
    "        \n",
    "        # Set this otherwise the downloaded image file size will be zero\n",
    "        r.raw.decode_content = True\n",
    "    \n",
    "        # Open a local file\n",
    "        with open(filename, 'wb') as f:\n",
    "            shutil.copyfileobj(r.raw, f)\n",
    "        \n",
    "        # Report back on how things went\n",
    "        print('Image sucessfully Downloaded: ',filename)\n",
    "    else:\n",
    "        print('Image Couldn\\'t be retreived')"
   ]
  },
  {
   "cell_type": "markdown",
   "id": "9d5f1911",
   "metadata": {},
   "source": [
    "## Reviewing media and conducting quality control\n",
    "\n",
    "- ditch images of non specimens\n",
    "- deal with EXIF metadata issues"
   ]
  }
 ],
 "metadata": {
  "kernelspec": {
   "display_name": "Python 3",
   "language": "python",
   "name": "python3"
  },
  "language_info": {
   "codemirror_mode": {
    "name": "ipython",
    "version": 3
   },
   "file_extension": ".py",
   "mimetype": "text/x-python",
   "name": "python",
   "nbconvert_exporter": "python",
   "pygments_lexer": "ipython3",
   "version": "3.8.8"
  }
 },
 "nbformat": 4,
 "nbformat_minor": 5
}
